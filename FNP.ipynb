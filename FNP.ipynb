{
 "cells": [
  {
   "cell_type": "markdown",
   "id": "52c445f3-67a4-4bb6-b19b-9b7c7f8efa1c",
   "metadata": {},
   "source": [
    "**FAKE NEWS DETCECTION USING MACHINE LEARNING AND TEXT EXTRACTION**"
   ]
  },
  {
   "cell_type": "raw",
   "id": "03942d79-dfe1-4168-a09b-fcbe89fd9043",
   "metadata": {},
   "source": [
    "fake news contains misleading information that can be checked. Our concern is to create a model of a product with supervised machine learning \n",
    "algorithm, that can classify fake news true or false, by using tools like python, scikit-learn, NLP for text extraction. This process will result \n",
    "in feature extraction and vectorization."
   ]
  },
  {
   "cell_type": "code",
   "execution_count": 4,
   "id": "b8410c30-fc42-4e07-b65e-923dbc8962af",
   "metadata": {},
   "outputs": [],
   "source": [
    "#importing dependencies\n",
    "\n",
    "import pandas as pd\n",
    "import numpy as np \n",
    "import matplotlib.pyplot as plt\n",
    "import re #searching words in a text or paragraph\n",
    "from nltk.corpus import stopwords\n",
    "from nltk.stem.porter import PorterStemmer\n",
    "from sklearn.feature_extraction.text import TfidfVectorizer\n",
    "from sklearn.model_selection import train_test_split\n",
    "from sklearn.linear_model import LogisticRegression\n",
    "from sklearn.metrics import accuracy_score\n",
    "from sklearn.metrics import classification_report"
   ]
  },
  {
   "cell_type": "code",
   "execution_count": 5,
   "id": "472150e4-f54d-41d3-bac2-e5f1072410c9",
   "metadata": {},
   "outputs": [],
   "source": [
    "#importing dataset\n",
    "\n",
    "df_train=pd.read_csv(r\"C:\\Users\\sukan\\Desktop\\FAKE NEWS PREDICTION\\fake news detection 3\\FN4\\train.csv\")\n",
    "df_test=pd.read_csv(r\"C:\\Users\\sukan\\Desktop\\FAKE NEWS PREDICTION\\fake news detection 3\\FN4\\test.csv\")"
   ]
  },
  {
   "cell_type": "code",
   "execution_count": 6,
   "id": "7a826c67-5aa8-4506-8d65-ad15506291e9",
   "metadata": {},
   "outputs": [
    {
     "data": {
      "text/html": [
       "<div>\n",
       "<style scoped>\n",
       "    .dataframe tbody tr th:only-of-type {\n",
       "        vertical-align: middle;\n",
       "    }\n",
       "\n",
       "    .dataframe tbody tr th {\n",
       "        vertical-align: top;\n",
       "    }\n",
       "\n",
       "    .dataframe thead th {\n",
       "        text-align: right;\n",
       "    }\n",
       "</style>\n",
       "<table border=\"1\" class=\"dataframe\">\n",
       "  <thead>\n",
       "    <tr style=\"text-align: right;\">\n",
       "      <th></th>\n",
       "      <th>id</th>\n",
       "      <th>title</th>\n",
       "      <th>author</th>\n",
       "      <th>text</th>\n",
       "      <th>label</th>\n",
       "    </tr>\n",
       "  </thead>\n",
       "  <tbody>\n",
       "    <tr>\n",
       "      <th>0</th>\n",
       "      <td>0</td>\n",
       "      <td>House Dem Aide: We Didn’t Even See Comey’s Let...</td>\n",
       "      <td>Darrell Lucus</td>\n",
       "      <td>House Dem Aide: We Didn’t Even See Comey’s Let...</td>\n",
       "      <td>1</td>\n",
       "    </tr>\n",
       "    <tr>\n",
       "      <th>1</th>\n",
       "      <td>1</td>\n",
       "      <td>FLYNN: Hillary Clinton, Big Woman on Campus - ...</td>\n",
       "      <td>Daniel J. Flynn</td>\n",
       "      <td>Ever get the feeling your life circles the rou...</td>\n",
       "      <td>0</td>\n",
       "    </tr>\n",
       "    <tr>\n",
       "      <th>2</th>\n",
       "      <td>2</td>\n",
       "      <td>Why the Truth Might Get You Fired</td>\n",
       "      <td>Consortiumnews.com</td>\n",
       "      <td>Why the Truth Might Get You Fired October 29, ...</td>\n",
       "      <td>1</td>\n",
       "    </tr>\n",
       "    <tr>\n",
       "      <th>3</th>\n",
       "      <td>3</td>\n",
       "      <td>15 Civilians Killed In Single US Airstrike Hav...</td>\n",
       "      <td>Jessica Purkiss</td>\n",
       "      <td>Videos 15 Civilians Killed In Single US Airstr...</td>\n",
       "      <td>1</td>\n",
       "    </tr>\n",
       "    <tr>\n",
       "      <th>4</th>\n",
       "      <td>4</td>\n",
       "      <td>Iranian woman jailed for fictional unpublished...</td>\n",
       "      <td>Howard Portnoy</td>\n",
       "      <td>Print \\nAn Iranian woman has been sentenced to...</td>\n",
       "      <td>1</td>\n",
       "    </tr>\n",
       "  </tbody>\n",
       "</table>\n",
       "</div>"
      ],
      "text/plain": [
       "   id                                              title              author  \\\n",
       "0   0  House Dem Aide: We Didn’t Even See Comey’s Let...       Darrell Lucus   \n",
       "1   1  FLYNN: Hillary Clinton, Big Woman on Campus - ...     Daniel J. Flynn   \n",
       "2   2                  Why the Truth Might Get You Fired  Consortiumnews.com   \n",
       "3   3  15 Civilians Killed In Single US Airstrike Hav...     Jessica Purkiss   \n",
       "4   4  Iranian woman jailed for fictional unpublished...      Howard Portnoy   \n",
       "\n",
       "                                                text  label  \n",
       "0  House Dem Aide: We Didn’t Even See Comey’s Let...      1  \n",
       "1  Ever get the feeling your life circles the rou...      0  \n",
       "2  Why the Truth Might Get You Fired October 29, ...      1  \n",
       "3  Videos 15 Civilians Killed In Single US Airstr...      1  \n",
       "4  Print \\nAn Iranian woman has been sentenced to...      1  "
      ]
     },
     "execution_count": 6,
     "metadata": {},
     "output_type": "execute_result"
    }
   ],
   "source": [
    "df_train.head()"
   ]
  },
  {
   "cell_type": "code",
   "execution_count": 7,
   "id": "9b1237ab-4e32-470e-b6c2-88252742daf1",
   "metadata": {},
   "outputs": [
    {
     "data": {
      "text/plain": [
       "(20800, 5)"
      ]
     },
     "execution_count": 7,
     "metadata": {},
     "output_type": "execute_result"
    }
   ],
   "source": [
    "df_train.shape"
   ]
  },
  {
   "cell_type": "code",
   "execution_count": 8,
   "id": "8e16015c-d59a-4bfa-bf09-e3743e69b9e9",
   "metadata": {},
   "outputs": [
    {
     "data": {
      "text/plain": [
       "id           0\n",
       "title      558\n",
       "author    1957\n",
       "text        39\n",
       "label        0\n",
       "dtype: int64"
      ]
     },
     "execution_count": 8,
     "metadata": {},
     "output_type": "execute_result"
    }
   ],
   "source": [
    "#missing value imputation \n",
    "df_train.isnull().sum()"
   ]
  },
  {
   "cell_type": "code",
   "execution_count": 9,
   "id": "6f7123e6-b25d-4ee7-860d-1551036e1181",
   "metadata": {},
   "outputs": [],
   "source": [
    "#dropping the missing values\n",
    "df=df_train.dropna()"
   ]
  },
  {
   "cell_type": "code",
   "execution_count": 10,
   "id": "df96c3a6-0240-4ed7-b8af-06391c097a9c",
   "metadata": {},
   "outputs": [
    {
     "data": {
      "text/html": [
       "<div>\n",
       "<style scoped>\n",
       "    .dataframe tbody tr th:only-of-type {\n",
       "        vertical-align: middle;\n",
       "    }\n",
       "\n",
       "    .dataframe tbody tr th {\n",
       "        vertical-align: top;\n",
       "    }\n",
       "\n",
       "    .dataframe thead th {\n",
       "        text-align: right;\n",
       "    }\n",
       "</style>\n",
       "<table border=\"1\" class=\"dataframe\">\n",
       "  <thead>\n",
       "    <tr style=\"text-align: right;\">\n",
       "      <th></th>\n",
       "      <th>id</th>\n",
       "      <th>title</th>\n",
       "      <th>author</th>\n",
       "      <th>text</th>\n",
       "      <th>label</th>\n",
       "    </tr>\n",
       "  </thead>\n",
       "  <tbody>\n",
       "    <tr>\n",
       "      <th>0</th>\n",
       "      <td>0</td>\n",
       "      <td>House Dem Aide: We Didn’t Even See Comey’s Let...</td>\n",
       "      <td>Darrell Lucus</td>\n",
       "      <td>House Dem Aide: We Didn’t Even See Comey’s Let...</td>\n",
       "      <td>1</td>\n",
       "    </tr>\n",
       "    <tr>\n",
       "      <th>1</th>\n",
       "      <td>1</td>\n",
       "      <td>FLYNN: Hillary Clinton, Big Woman on Campus - ...</td>\n",
       "      <td>Daniel J. Flynn</td>\n",
       "      <td>Ever get the feeling your life circles the rou...</td>\n",
       "      <td>0</td>\n",
       "    </tr>\n",
       "    <tr>\n",
       "      <th>2</th>\n",
       "      <td>2</td>\n",
       "      <td>Why the Truth Might Get You Fired</td>\n",
       "      <td>Consortiumnews.com</td>\n",
       "      <td>Why the Truth Might Get You Fired October 29, ...</td>\n",
       "      <td>1</td>\n",
       "    </tr>\n",
       "    <tr>\n",
       "      <th>3</th>\n",
       "      <td>3</td>\n",
       "      <td>15 Civilians Killed In Single US Airstrike Hav...</td>\n",
       "      <td>Jessica Purkiss</td>\n",
       "      <td>Videos 15 Civilians Killed In Single US Airstr...</td>\n",
       "      <td>1</td>\n",
       "    </tr>\n",
       "    <tr>\n",
       "      <th>4</th>\n",
       "      <td>4</td>\n",
       "      <td>Iranian woman jailed for fictional unpublished...</td>\n",
       "      <td>Howard Portnoy</td>\n",
       "      <td>Print \\nAn Iranian woman has been sentenced to...</td>\n",
       "      <td>1</td>\n",
       "    </tr>\n",
       "    <tr>\n",
       "      <th>5</th>\n",
       "      <td>5</td>\n",
       "      <td>Jackie Mason: Hollywood Would Love Trump if He...</td>\n",
       "      <td>Daniel Nussbaum</td>\n",
       "      <td>In these trying times, Jackie Mason is the Voi...</td>\n",
       "      <td>0</td>\n",
       "    </tr>\n",
       "    <tr>\n",
       "      <th>7</th>\n",
       "      <td>7</td>\n",
       "      <td>Benoît Hamon Wins French Socialist Party’s Pre...</td>\n",
       "      <td>Alissa J. Rubin</td>\n",
       "      <td>PARIS  —   France chose an idealistic, traditi...</td>\n",
       "      <td>0</td>\n",
       "    </tr>\n",
       "    <tr>\n",
       "      <th>9</th>\n",
       "      <td>9</td>\n",
       "      <td>A Back-Channel Plan for Ukraine and Russia, Co...</td>\n",
       "      <td>Megan Twohey and Scott Shane</td>\n",
       "      <td>A week before Michael T. Flynn resigned as nat...</td>\n",
       "      <td>0</td>\n",
       "    </tr>\n",
       "    <tr>\n",
       "      <th>10</th>\n",
       "      <td>10</td>\n",
       "      <td>Obama’s Organizing for Action Partners with So...</td>\n",
       "      <td>Aaron Klein</td>\n",
       "      <td>Organizing for Action, the activist group that...</td>\n",
       "      <td>0</td>\n",
       "    </tr>\n",
       "    <tr>\n",
       "      <th>11</th>\n",
       "      <td>11</td>\n",
       "      <td>BBC Comedy Sketch \"Real Housewives of ISIS\" Ca...</td>\n",
       "      <td>Chris Tomlinson</td>\n",
       "      <td>The BBC produced spoof on the “Real Housewives...</td>\n",
       "      <td>0</td>\n",
       "    </tr>\n",
       "  </tbody>\n",
       "</table>\n",
       "</div>"
      ],
      "text/plain": [
       "    id                                              title  \\\n",
       "0    0  House Dem Aide: We Didn’t Even See Comey’s Let...   \n",
       "1    1  FLYNN: Hillary Clinton, Big Woman on Campus - ...   \n",
       "2    2                  Why the Truth Might Get You Fired   \n",
       "3    3  15 Civilians Killed In Single US Airstrike Hav...   \n",
       "4    4  Iranian woman jailed for fictional unpublished...   \n",
       "5    5  Jackie Mason: Hollywood Would Love Trump if He...   \n",
       "7    7  Benoît Hamon Wins French Socialist Party’s Pre...   \n",
       "9    9  A Back-Channel Plan for Ukraine and Russia, Co...   \n",
       "10  10  Obama’s Organizing for Action Partners with So...   \n",
       "11  11  BBC Comedy Sketch \"Real Housewives of ISIS\" Ca...   \n",
       "\n",
       "                          author  \\\n",
       "0                  Darrell Lucus   \n",
       "1                Daniel J. Flynn   \n",
       "2             Consortiumnews.com   \n",
       "3                Jessica Purkiss   \n",
       "4                 Howard Portnoy   \n",
       "5                Daniel Nussbaum   \n",
       "7                Alissa J. Rubin   \n",
       "9   Megan Twohey and Scott Shane   \n",
       "10                   Aaron Klein   \n",
       "11               Chris Tomlinson   \n",
       "\n",
       "                                                 text  label  \n",
       "0   House Dem Aide: We Didn’t Even See Comey’s Let...      1  \n",
       "1   Ever get the feeling your life circles the rou...      0  \n",
       "2   Why the Truth Might Get You Fired October 29, ...      1  \n",
       "3   Videos 15 Civilians Killed In Single US Airstr...      1  \n",
       "4   Print \\nAn Iranian woman has been sentenced to...      1  \n",
       "5   In these trying times, Jackie Mason is the Voi...      0  \n",
       "7   PARIS  —   France chose an idealistic, traditi...      0  \n",
       "9   A week before Michael T. Flynn resigned as nat...      0  \n",
       "10  Organizing for Action, the activist group that...      0  \n",
       "11  The BBC produced spoof on the “Real Housewives...      0  "
      ]
     },
     "execution_count": 10,
     "metadata": {},
     "output_type": "execute_result"
    }
   ],
   "source": [
    "df.head(10)"
   ]
  },
  {
   "cell_type": "code",
   "execution_count": 11,
   "id": "7dda693a-e122-4fb5-b1bd-32e7ebc18b88",
   "metadata": {},
   "outputs": [],
   "source": [
    "news=df.copy()\n",
    "news.reset_index(inplace=True)"
   ]
  },
  {
   "cell_type": "code",
   "execution_count": 12,
   "id": "3bf510af-1c14-4c97-8007-7ee08ff0867b",
   "metadata": {},
   "outputs": [
    {
     "data": {
      "text/html": [
       "<div>\n",
       "<style scoped>\n",
       "    .dataframe tbody tr th:only-of-type {\n",
       "        vertical-align: middle;\n",
       "    }\n",
       "\n",
       "    .dataframe tbody tr th {\n",
       "        vertical-align: top;\n",
       "    }\n",
       "\n",
       "    .dataframe thead th {\n",
       "        text-align: right;\n",
       "    }\n",
       "</style>\n",
       "<table border=\"1\" class=\"dataframe\">\n",
       "  <thead>\n",
       "    <tr style=\"text-align: right;\">\n",
       "      <th></th>\n",
       "      <th>index</th>\n",
       "      <th>id</th>\n",
       "      <th>title</th>\n",
       "      <th>author</th>\n",
       "      <th>text</th>\n",
       "      <th>label</th>\n",
       "    </tr>\n",
       "  </thead>\n",
       "  <tbody>\n",
       "    <tr>\n",
       "      <th>0</th>\n",
       "      <td>0</td>\n",
       "      <td>0</td>\n",
       "      <td>House Dem Aide: We Didn’t Even See Comey’s Let...</td>\n",
       "      <td>Darrell Lucus</td>\n",
       "      <td>House Dem Aide: We Didn’t Even See Comey’s Let...</td>\n",
       "      <td>1</td>\n",
       "    </tr>\n",
       "    <tr>\n",
       "      <th>1</th>\n",
       "      <td>1</td>\n",
       "      <td>1</td>\n",
       "      <td>FLYNN: Hillary Clinton, Big Woman on Campus - ...</td>\n",
       "      <td>Daniel J. Flynn</td>\n",
       "      <td>Ever get the feeling your life circles the rou...</td>\n",
       "      <td>0</td>\n",
       "    </tr>\n",
       "    <tr>\n",
       "      <th>2</th>\n",
       "      <td>2</td>\n",
       "      <td>2</td>\n",
       "      <td>Why the Truth Might Get You Fired</td>\n",
       "      <td>Consortiumnews.com</td>\n",
       "      <td>Why the Truth Might Get You Fired October 29, ...</td>\n",
       "      <td>1</td>\n",
       "    </tr>\n",
       "    <tr>\n",
       "      <th>3</th>\n",
       "      <td>3</td>\n",
       "      <td>3</td>\n",
       "      <td>15 Civilians Killed In Single US Airstrike Hav...</td>\n",
       "      <td>Jessica Purkiss</td>\n",
       "      <td>Videos 15 Civilians Killed In Single US Airstr...</td>\n",
       "      <td>1</td>\n",
       "    </tr>\n",
       "    <tr>\n",
       "      <th>4</th>\n",
       "      <td>4</td>\n",
       "      <td>4</td>\n",
       "      <td>Iranian woman jailed for fictional unpublished...</td>\n",
       "      <td>Howard Portnoy</td>\n",
       "      <td>Print \\nAn Iranian woman has been sentenced to...</td>\n",
       "      <td>1</td>\n",
       "    </tr>\n",
       "    <tr>\n",
       "      <th>5</th>\n",
       "      <td>5</td>\n",
       "      <td>5</td>\n",
       "      <td>Jackie Mason: Hollywood Would Love Trump if He...</td>\n",
       "      <td>Daniel Nussbaum</td>\n",
       "      <td>In these trying times, Jackie Mason is the Voi...</td>\n",
       "      <td>0</td>\n",
       "    </tr>\n",
       "    <tr>\n",
       "      <th>6</th>\n",
       "      <td>7</td>\n",
       "      <td>7</td>\n",
       "      <td>Benoît Hamon Wins French Socialist Party’s Pre...</td>\n",
       "      <td>Alissa J. Rubin</td>\n",
       "      <td>PARIS  —   France chose an idealistic, traditi...</td>\n",
       "      <td>0</td>\n",
       "    </tr>\n",
       "    <tr>\n",
       "      <th>7</th>\n",
       "      <td>9</td>\n",
       "      <td>9</td>\n",
       "      <td>A Back-Channel Plan for Ukraine and Russia, Co...</td>\n",
       "      <td>Megan Twohey and Scott Shane</td>\n",
       "      <td>A week before Michael T. Flynn resigned as nat...</td>\n",
       "      <td>0</td>\n",
       "    </tr>\n",
       "    <tr>\n",
       "      <th>8</th>\n",
       "      <td>10</td>\n",
       "      <td>10</td>\n",
       "      <td>Obama’s Organizing for Action Partners with So...</td>\n",
       "      <td>Aaron Klein</td>\n",
       "      <td>Organizing for Action, the activist group that...</td>\n",
       "      <td>0</td>\n",
       "    </tr>\n",
       "    <tr>\n",
       "      <th>9</th>\n",
       "      <td>11</td>\n",
       "      <td>11</td>\n",
       "      <td>BBC Comedy Sketch \"Real Housewives of ISIS\" Ca...</td>\n",
       "      <td>Chris Tomlinson</td>\n",
       "      <td>The BBC produced spoof on the “Real Housewives...</td>\n",
       "      <td>0</td>\n",
       "    </tr>\n",
       "  </tbody>\n",
       "</table>\n",
       "</div>"
      ],
      "text/plain": [
       "   index  id                                              title  \\\n",
       "0      0   0  House Dem Aide: We Didn’t Even See Comey’s Let...   \n",
       "1      1   1  FLYNN: Hillary Clinton, Big Woman on Campus - ...   \n",
       "2      2   2                  Why the Truth Might Get You Fired   \n",
       "3      3   3  15 Civilians Killed In Single US Airstrike Hav...   \n",
       "4      4   4  Iranian woman jailed for fictional unpublished...   \n",
       "5      5   5  Jackie Mason: Hollywood Would Love Trump if He...   \n",
       "6      7   7  Benoît Hamon Wins French Socialist Party’s Pre...   \n",
       "7      9   9  A Back-Channel Plan for Ukraine and Russia, Co...   \n",
       "8     10  10  Obama’s Organizing for Action Partners with So...   \n",
       "9     11  11  BBC Comedy Sketch \"Real Housewives of ISIS\" Ca...   \n",
       "\n",
       "                         author  \\\n",
       "0                 Darrell Lucus   \n",
       "1               Daniel J. Flynn   \n",
       "2            Consortiumnews.com   \n",
       "3               Jessica Purkiss   \n",
       "4                Howard Portnoy   \n",
       "5               Daniel Nussbaum   \n",
       "6               Alissa J. Rubin   \n",
       "7  Megan Twohey and Scott Shane   \n",
       "8                   Aaron Klein   \n",
       "9               Chris Tomlinson   \n",
       "\n",
       "                                                text  label  \n",
       "0  House Dem Aide: We Didn’t Even See Comey’s Let...      1  \n",
       "1  Ever get the feeling your life circles the rou...      0  \n",
       "2  Why the Truth Might Get You Fired October 29, ...      1  \n",
       "3  Videos 15 Civilians Killed In Single US Airstr...      1  \n",
       "4  Print \\nAn Iranian woman has been sentenced to...      1  \n",
       "5  In these trying times, Jackie Mason is the Voi...      0  \n",
       "6  PARIS  —   France chose an idealistic, traditi...      0  \n",
       "7  A week before Michael T. Flynn resigned as nat...      0  \n",
       "8  Organizing for Action, the activist group that...      0  \n",
       "9  The BBC produced spoof on the “Real Housewives...      0  "
      ]
     },
     "execution_count": 12,
     "metadata": {},
     "output_type": "execute_result"
    }
   ],
   "source": [
    "news.head(10)"
   ]
  },
  {
   "cell_type": "code",
   "execution_count": 13,
   "id": "dfac7dd7-bb02-4396-a741-9c12d9dc5a11",
   "metadata": {},
   "outputs": [],
   "source": [
    "# merging the author name and news title\n",
    "news['content'] = news['author']+' '+news['title']"
   ]
  },
  {
   "cell_type": "code",
   "execution_count": 14,
   "id": "699837db-3c60-41cd-880a-09551e70e300",
   "metadata": {},
   "outputs": [
    {
     "data": {
      "text/plain": [
       "0        Darrell Lucus House Dem Aide: We Didn’t Even S...\n",
       "1        Daniel J. Flynn FLYNN: Hillary Clinton, Big Wo...\n",
       "2        Consortiumnews.com Why the Truth Might Get You...\n",
       "3        Jessica Purkiss 15 Civilians Killed In Single ...\n",
       "4        Howard Portnoy Iranian woman jailed for fictio...\n",
       "                               ...                        \n",
       "18280    Jerome Hudson Rapper T.I.: Trump a ’Poster Chi...\n",
       "18281    Benjamin Hoffman N.F.L. Playoffs: Schedule, Ma...\n",
       "18282    Michael J. de la Merced and Rachel Abrams Macy...\n",
       "18283    Alex Ansary NATO, Russia To Hold Parallel Exer...\n",
       "18284              David Swanson What Keeps the F-35 Alive\n",
       "Name: content, Length: 18285, dtype: object"
      ]
     },
     "execution_count": 14,
     "metadata": {},
     "output_type": "execute_result"
    }
   ],
   "source": [
    "news['content'] "
   ]
  },
  {
   "cell_type": "code",
   "execution_count": 15,
   "id": "e723ccb6-ad4a-4c76-8021-68b43fb2a241",
   "metadata": {},
   "outputs": [],
   "source": [
    "## Get the Independent Features\n",
    "# separating the data & label\n",
    "\n",
    "X = news.drop(columns='label', axis=1)\n",
    "Y = news['label'].values"
   ]
  },
  {
   "cell_type": "code",
   "execution_count": 16,
   "id": "12024af3-9b51-4e92-b064-0a25437780cb",
   "metadata": {},
   "outputs": [
    {
     "name": "stdout",
     "output_type": "stream",
     "text": [
      "       index     id                                              title  \\\n",
      "0          0      0  House Dem Aide: We Didn’t Even See Comey’s Let...   \n",
      "1          1      1  FLYNN: Hillary Clinton, Big Woman on Campus - ...   \n",
      "2          2      2                  Why the Truth Might Get You Fired   \n",
      "3          3      3  15 Civilians Killed In Single US Airstrike Hav...   \n",
      "4          4      4  Iranian woman jailed for fictional unpublished...   \n",
      "...      ...    ...                                                ...   \n",
      "18280  20795  20795  Rapper T.I.: Trump a ’Poster Child For White S...   \n",
      "18281  20796  20796  N.F.L. Playoffs: Schedule, Matchups and Odds -...   \n",
      "18282  20797  20797  Macy’s Is Said to Receive Takeover Approach by...   \n",
      "18283  20798  20798  NATO, Russia To Hold Parallel Exercises In Bal...   \n",
      "18284  20799  20799                          What Keeps the F-35 Alive   \n",
      "\n",
      "                                          author  \\\n",
      "0                                  Darrell Lucus   \n",
      "1                                Daniel J. Flynn   \n",
      "2                             Consortiumnews.com   \n",
      "3                                Jessica Purkiss   \n",
      "4                                 Howard Portnoy   \n",
      "...                                          ...   \n",
      "18280                              Jerome Hudson   \n",
      "18281                           Benjamin Hoffman   \n",
      "18282  Michael J. de la Merced and Rachel Abrams   \n",
      "18283                                Alex Ansary   \n",
      "18284                              David Swanson   \n",
      "\n",
      "                                                    text  \\\n",
      "0      House Dem Aide: We Didn’t Even See Comey’s Let...   \n",
      "1      Ever get the feeling your life circles the rou...   \n",
      "2      Why the Truth Might Get You Fired October 29, ...   \n",
      "3      Videos 15 Civilians Killed In Single US Airstr...   \n",
      "4      Print \\nAn Iranian woman has been sentenced to...   \n",
      "...                                                  ...   \n",
      "18280  Rapper T. I. unloaded on black celebrities who...   \n",
      "18281  When the Green Bay Packers lost to the Washing...   \n",
      "18282  The Macy’s of today grew from the union of sev...   \n",
      "18283  NATO, Russia To Hold Parallel Exercises In Bal...   \n",
      "18284    David Swanson is an author, activist, journa...   \n",
      "\n",
      "                                                 content  \n",
      "0      Darrell Lucus House Dem Aide: We Didn’t Even S...  \n",
      "1      Daniel J. Flynn FLYNN: Hillary Clinton, Big Wo...  \n",
      "2      Consortiumnews.com Why the Truth Might Get You...  \n",
      "3      Jessica Purkiss 15 Civilians Killed In Single ...  \n",
      "4      Howard Portnoy Iranian woman jailed for fictio...  \n",
      "...                                                  ...  \n",
      "18280  Jerome Hudson Rapper T.I.: Trump a ’Poster Chi...  \n",
      "18281  Benjamin Hoffman N.F.L. Playoffs: Schedule, Ma...  \n",
      "18282  Michael J. de la Merced and Rachel Abrams Macy...  \n",
      "18283  Alex Ansary NATO, Russia To Hold Parallel Exer...  \n",
      "18284            David Swanson What Keeps the F-35 Alive  \n",
      "\n",
      "[18285 rows x 6 columns]\n"
     ]
    }
   ],
   "source": [
    "print(X)"
   ]
  },
  {
   "cell_type": "code",
   "execution_count": 17,
   "id": "154bea1d-f480-4e03-9726-c7b5e9357c89",
   "metadata": {},
   "outputs": [
    {
     "name": "stdout",
     "output_type": "stream",
     "text": [
      "[1 0 1 ... 0 1 1]\n"
     ]
    }
   ],
   "source": [
    "print(Y)"
   ]
  },
  {
   "cell_type": "code",
   "execution_count": 18,
   "id": "ea34e0ca-8877-40bf-b5c3-2999f44fab36",
   "metadata": {},
   "outputs": [
    {
     "data": {
      "text/plain": [
       "(18285,)"
      ]
     },
     "execution_count": 18,
     "metadata": {},
     "output_type": "execute_result"
    }
   ],
   "source": [
    "Y.shape"
   ]
  },
  {
   "cell_type": "code",
   "execution_count": 19,
   "id": "365b0e32-6494-4777-907c-187b8f6f9dfa",
   "metadata": {},
   "outputs": [],
   "source": [
    "#stemming \n",
    "port_stem = PorterStemmer()"
   ]
  },
  {
   "cell_type": "code",
   "execution_count": 20,
   "id": "df2e1327-0a85-4732-b998-e37ec3b65627",
   "metadata": {},
   "outputs": [],
   "source": [
    "def stemming(content):\n",
    "    stemmed_content = re.sub('[^a-zA-Z]',' ',content)\n",
    "    stemmed_content = stemmed_content.lower()\n",
    "    stemmed_content = stemmed_content.split()\n",
    "    stemmed_content = [port_stem.stem(word) for word in stemmed_content if not word in stopwords.words('english')]\n",
    "    stemmed_content = ' '.join(stemmed_content)\n",
    "    return stemmed_content"
   ]
  },
  {
   "cell_type": "code",
   "execution_count": 21,
   "id": "322217e6-82d9-4f6f-a03d-e9aa9c380c90",
   "metadata": {},
   "outputs": [],
   "source": [
    "news['content'] = news['content'].apply(stemming)"
   ]
  },
  {
   "cell_type": "code",
   "execution_count": 22,
   "id": "dd81883f-1204-466c-987e-890bd2a223c9",
   "metadata": {},
   "outputs": [
    {
     "data": {
      "text/plain": [
       "0        darrel lucu hous dem aid even see comey letter...\n",
       "1        daniel j flynn flynn hillari clinton big woman...\n",
       "2                   consortiumnew com truth might get fire\n",
       "3        jessica purkiss civilian kill singl us airstri...\n",
       "4        howard portnoy iranian woman jail fiction unpu...\n",
       "                               ...                        \n",
       "18280    jerom hudson rapper trump poster child white s...\n",
       "18281    benjamin hoffman n f l playoff schedul matchup...\n",
       "18282    michael j de la merc rachel abram maci said re...\n",
       "18283    alex ansari nato russia hold parallel exercis ...\n",
       "18284                            david swanson keep f aliv\n",
       "Name: content, Length: 18285, dtype: object"
      ]
     },
     "execution_count": 22,
     "metadata": {},
     "output_type": "execute_result"
    }
   ],
   "source": [
    "news['content']"
   ]
  },
  {
   "cell_type": "code",
   "execution_count": 23,
   "id": "bf49ad66-c830-44f0-a640-5b8ce7578cfb",
   "metadata": {},
   "outputs": [],
   "source": [
    "#separating the data and label\n",
    "X = news['content'].values\n",
    "Y = news['label'].values"
   ]
  },
  {
   "cell_type": "code",
   "execution_count": 24,
   "id": "05be6d60-0fca-4c27-873a-d5be07b5be41",
   "metadata": {},
   "outputs": [
    {
     "name": "stdout",
     "output_type": "stream",
     "text": [
      "['darrel lucu hous dem aid even see comey letter jason chaffetz tweet'\n",
      " 'daniel j flynn flynn hillari clinton big woman campu breitbart'\n",
      " 'consortiumnew com truth might get fire' ...\n",
      " 'michael j de la merc rachel abram maci said receiv takeov approach hudson bay new york time'\n",
      " 'alex ansari nato russia hold parallel exercis balkan'\n",
      " 'david swanson keep f aliv']\n"
     ]
    }
   ],
   "source": [
    "print(X)"
   ]
  },
  {
   "cell_type": "code",
   "execution_count": 25,
   "id": "d97bff97-ddc8-42bf-96a7-b0bd34871728",
   "metadata": {},
   "outputs": [
    {
     "name": "stdout",
     "output_type": "stream",
     "text": [
      "[1 0 1 ... 0 1 1]\n"
     ]
    }
   ],
   "source": [
    "print(Y)"
   ]
  },
  {
   "cell_type": "code",
   "execution_count": 26,
   "id": "29d09182-44de-4307-8fd5-61699e0f1875",
   "metadata": {},
   "outputs": [
    {
     "data": {
      "text/plain": [
       "(18285,)"
      ]
     },
     "execution_count": 26,
     "metadata": {},
     "output_type": "execute_result"
    }
   ],
   "source": [
    "Y.shape"
   ]
  },
  {
   "cell_type": "markdown",
   "id": "9beb3711-ee9a-4f60-b811-9b60859fd637",
   "metadata": {},
   "source": [
    "**converting the textual data to numerical data**"
   ]
  },
  {
   "cell_type": "code",
   "execution_count": 30,
   "id": "da133446-df13-43eb-a2b5-0da538fd5ed8",
   "metadata": {},
   "outputs": [],
   "source": [
    "\n",
    "\n",
    "vectorizer = TfidfVectorizer()\n",
    "vectorizer.fit(X)\n",
    "X = vectorizer.transform(X)"
   ]
  },
  {
   "cell_type": "code",
   "execution_count": 31,
   "id": "beff664e-1cc9-4074-a292-0affdd3b14c5",
   "metadata": {},
   "outputs": [
    {
     "name": "stdout",
     "output_type": "stream",
     "text": [
      "  (0, 14626)\t0.2853880981846006\n",
      "  (0, 12567)\t0.25566372256502734\n",
      "  (0, 8310)\t0.3609049070394367\n",
      "  (0, 8048)\t0.29347549279156676\n",
      "  (0, 7190)\t0.24556189342497173\n",
      "  (0, 6552)\t0.21745594418933306\n",
      "  (0, 4637)\t0.23016077319140021\n",
      "  (0, 3543)\t0.2684494960336511\n",
      "  (0, 3359)\t0.3609049070394367\n",
      "  (0, 2757)\t0.2466340295002162\n",
      "  (0, 2312)\t0.3745612250433202\n",
      "  (0, 247)\t0.26982554594264346\n",
      "  (1, 15663)\t0.3053027963338981\n",
      "  (1, 6377)\t0.19285723710368197\n",
      "  (1, 5140)\t0.7119376870709988\n",
      "  (1, 3328)\t0.2623789770430963\n",
      "  (1, 2619)\t0.19368327535633711\n",
      "  (1, 2066)\t0.38191890436039194\n",
      "  (1, 1764)\t0.1509985164277699\n",
      "  (1, 1391)\t0.29617980713962144\n",
      "  (2, 14560)\t0.4180284001448272\n",
      "  (2, 8973)\t0.4948460479407663\n",
      "  (2, 5579)\t0.3490632212946542\n",
      "  (2, 5031)\t0.38709995799949964\n",
      "  (2, 2895)\t0.4581003415623782\n",
      "  :\t:\n",
      "  (18282, 12239)\t0.252743907968046\n",
      "  (18282, 11515)\t0.2748252773264482\n",
      "  (18282, 11321)\t0.24588400571511215\n",
      "  (18282, 9605)\t0.07665665104558947\n",
      "  (18282, 8942)\t0.1712955017712004\n",
      "  (18282, 8879)\t0.29296479379736134\n",
      "  (18282, 8382)\t0.35970450365294165\n",
      "  (18282, 7798)\t0.22687979933965793\n",
      "  (18282, 6585)\t0.21510476155370076\n",
      "  (18282, 3399)\t0.2170958788154722\n",
      "  (18282, 1194)\t0.3332578734462242\n",
      "  (18282, 651)\t0.3092736732262161\n",
      "  (18282, 37)\t0.3002543959733933\n",
      "  (18283, 12165)\t0.23270871308752847\n",
      "  (18283, 10306)\t0.4413778890905314\n",
      "  (18283, 9488)\t0.32552842890234024\n",
      "  (18283, 6445)\t0.32552842890234024\n",
      "  (18283, 4689)\t0.40356927174664514\n",
      "  (18283, 1045)\t0.45207821299961\n",
      "  (18283, 547)\t0.3060853037704035\n",
      "  (18283, 325)\t0.27957756862205974\n",
      "  (18284, 13852)\t0.5644828989770629\n",
      "  (18284, 7500)\t0.4575187243982562\n",
      "  (18284, 3380)\t0.37703162369932886\n",
      "  (18284, 350)\t0.5743542707407087\n"
     ]
    }
   ],
   "source": [
    "print(X)"
   ]
  },
  {
   "cell_type": "markdown",
   "id": "3c52d1ef-80aa-4309-a79d-5538820b85a9",
   "metadata": {},
   "source": [
    "**Splitting the dataset to training & test data**"
   ]
  },
  {
   "cell_type": "code",
   "execution_count": 32,
   "id": "b3979004-7e02-42fe-ba3e-960ebdca7634",
   "metadata": {},
   "outputs": [],
   "source": [
    "X_train, X_test, Y_train, Y_test = train_test_split(X, Y, test_size = 0.2, stratify=Y, random_state=2)"
   ]
  },
  {
   "cell_type": "markdown",
   "id": "f3b41b13-2478-4aac-8007-ddd71e3e6382",
   "metadata": {},
   "source": [
    "\n",
    "\n",
    "\n",
    "**Training the Model: LOGISTIC REGRESSION**"
   ]
  },
  {
   "cell_type": "code",
   "execution_count": 33,
   "id": "535b4d03-8b6f-4c8d-8e64-71547412a30d",
   "metadata": {},
   "outputs": [
    {
     "data": {
      "text/plain": [
       "LogisticRegression()"
      ]
     },
     "execution_count": 33,
     "metadata": {},
     "output_type": "execute_result"
    }
   ],
   "source": [
    "model_LR = LogisticRegression()\n",
    "model_LR.fit(X_train, Y_train) #training or fitting the model to the training set"
   ]
  },
  {
   "cell_type": "code",
   "execution_count": 34,
   "id": "baa3559d-f695-40f8-903c-fbc21c5044d3",
   "metadata": {},
   "outputs": [
    {
     "data": {
      "text/plain": [
       "0.9827727645611156"
      ]
     },
     "execution_count": 34,
     "metadata": {},
     "output_type": "execute_result"
    }
   ],
   "source": [
    "model_LR.score(X_test,Y_test) # method computes the accuracy score"
   ]
  },
  {
   "cell_type": "code",
   "execution_count": 35,
   "id": "4098bfb8-4e3c-4af0-bad6-fdeeeb23418d",
   "metadata": {},
   "outputs": [],
   "source": [
    "pred_LR= model_LR.predict(X_test) # Predict using the linear model"
   ]
  },
  {
   "cell_type": "code",
   "execution_count": 36,
   "id": "50e3b731-d4e3-4bac-b06a-a79b0b83a475",
   "metadata": {},
   "outputs": [
    {
     "data": {
      "text/plain": [
       "array([1, 0, 0, ..., 0, 0, 1], dtype=int64)"
      ]
     },
     "execution_count": 36,
     "metadata": {},
     "output_type": "execute_result"
    }
   ],
   "source": [
    "pred_LR"
   ]
  },
  {
   "cell_type": "code",
   "execution_count": 37,
   "id": "2ffed0b4-ea84-4779-8fde-966bf5929745",
   "metadata": {},
   "outputs": [
    {
     "name": "stdout",
     "output_type": "stream",
     "text": [
      "              precision    recall  f1-score   support\n",
      "\n",
      "           0       1.00      0.97      0.98      2072\n",
      "           1       0.97      0.99      0.98      1585\n",
      "\n",
      "    accuracy                           0.98      3657\n",
      "   macro avg       0.98      0.98      0.98      3657\n",
      "weighted avg       0.98      0.98      0.98      3657\n",
      "\n"
     ]
    }
   ],
   "source": [
    "print(classification_report(Y_test,pred_LR)) #creating classification report"
   ]
  },
  {
   "cell_type": "markdown",
   "id": "b6ab98b6-e59d-4c57-b51c-5e9c511df86e",
   "metadata": {},
   "source": [
    "**Creating CONFUSION MATRIX***\n",
    "\n",
    "*determine the performance of the classification models for a given set of test data.*"
   ]
  },
  {
   "cell_type": "code",
   "execution_count": 38,
   "id": "c4a992e5-ddad-4bb2-8f37-f45e05060534",
   "metadata": {},
   "outputs": [
    {
     "name": "stdout",
     "output_type": "stream",
     "text": [
      "[[2019   53]\n",
      " [  10 1575]]\n"
     ]
    },
    {
     "data": {
      "text/plain": [
       "<AxesSubplot:>"
      ]
     },
     "execution_count": 38,
     "metadata": {},
     "output_type": "execute_result"
    },
    {
     "data": {
      "image/png": "[encoded data removed]",
      "text/plain": [
       "<Figure size 432x288 with 2 Axes>"
      ]
     },
     "metadata": {
      "needs_background": "light"
     },
     "output_type": "display_data"
    }
   ],
   "source": [
    "from sklearn.metrics import confusion_matrix  \n",
    "cm= confusion_matrix(Y_test,pred_LR)  \n",
    "print(cm)\n",
    "import seaborn as sns\n",
    "sns.heatmap(cm,cmap=\"BuPu\",annot=True)"
   ]
  },
  {
   "cell_type": "markdown",
   "id": "04bbeb31-0811-44d3-95d5-d8aa994f6154",
   "metadata": {},
   "source": [
    "**Training the Model: DECISION TREE CLASSIFICATION**\n",
    "\n",
    "*Non-parametric supervised learning method used for both classification and regression tasks.*"
   ]
  },
  {
   "cell_type": "code",
   "execution_count": 39,
   "id": "c40ee421-5b10-4c6b-8c63-ea015fe0337c",
   "metadata": {},
   "outputs": [
    {
     "data": {
      "text/plain": [
       "DecisionTreeClassifier()"
      ]
     },
     "execution_count": 39,
     "metadata": {},
     "output_type": "execute_result"
    }
   ],
   "source": [
    "from sklearn.tree import DecisionTreeClassifier\n",
    "DT = DecisionTreeClassifier()\n",
    "DT.fit(X_train,Y_train)"
   ]
  },
  {
   "cell_type": "code",
   "execution_count": 40,
   "id": "4c4756f0-b86f-4bb4-8b8f-774acd3515fc",
   "metadata": {},
   "outputs": [
    {
     "data": {
      "text/plain": [
       "0.9948044845501778"
      ]
     },
     "execution_count": 40,
     "metadata": {},
     "output_type": "execute_result"
    }
   ],
   "source": [
    "DT.score(X_test,Y_test)"
   ]
  },
  {
   "cell_type": "code",
   "execution_count": 41,
   "id": "7df2cd75-cad5-41c2-b1d0-ca752f6de5a1",
   "metadata": {},
   "outputs": [
    {
     "name": "stdout",
     "output_type": "stream",
     "text": [
      "              precision    recall  f1-score   support\n",
      "\n",
      "           0       0.99      1.00      1.00      2072\n",
      "           1       1.00      0.99      0.99      1585\n",
      "\n",
      "    accuracy                           0.99      3657\n",
      "   macro avg       0.99      0.99      0.99      3657\n",
      "weighted avg       0.99      0.99      0.99      3657\n",
      "\n"
     ]
    }
   ],
   "source": [
    "pred_DT = DT.predict(X_test)\n",
    "\n",
    "print(classification_report(Y_test,pred_DT))"
   ]
  },
  {
   "cell_type": "markdown",
   "id": "2c65f2e8-591d-4b53-8bbb-fa05b593c40f",
   "metadata": {},
   "source": [
    "**Creating CONFUSION MATRIX**"
   ]
  },
  {
   "cell_type": "code",
   "execution_count": 42,
   "id": "20982582-ede7-4dd3-8e17-3e4c40889674",
   "metadata": {},
   "outputs": [
    {
     "name": "stdout",
     "output_type": "stream",
     "text": [
      "[[2065    7]\n",
      " [  12 1573]]\n"
     ]
    },
    {
     "data": {
      "text/plain": [
       "<AxesSubplot:>"
      ]
     },
     "execution_count": 42,
     "metadata": {},
     "output_type": "execute_result"
    },
    {
     "data": {
      "image/png": "[encoded data removed]",
      "text/plain": [
       "<Figure size 432x288 with 2 Axes>"
      ]
     },
     "metadata": {
      "needs_background": "light"
     },
     "output_type": "display_data"
    }
   ],
   "source": [
    "cm= confusion_matrix(Y_test,pred_DT)  \n",
    "print(cm)\n",
    "import seaborn as sns\n",
    "sns.heatmap(cm,cmap=\"PiYG\",annot=True)"
   ]
  },
  {
   "cell_type": "markdown",
   "id": "7b178691-1e5e-459d-95de-b769d2f45450",
   "metadata": {},
   "source": [
    "**Training the Model: GRADIENT BOOSTING CLASSIFIER**\n",
    "  \n",
    "*It is a group of machine learning algorithms that combine many weak learning models together to create a strong predictive model.*"
   ]
  },
  {
   "cell_type": "code",
   "execution_count": 43,
   "id": "05213f45-237e-4e05-b580-7b7333df80e5",
   "metadata": {},
   "outputs": [
    {
     "data": {
      "text/plain": [
       "GradientBoostingClassifier(random_state=0)"
      ]
     },
     "execution_count": 43,
     "metadata": {},
     "output_type": "execute_result"
    }
   ],
   "source": [
    "from sklearn.ensemble import GradientBoostingClassifier\n",
    "GBC = GradientBoostingClassifier(random_state=0)\n",
    "GBC.fit(X_train,Y_train)"
   ]
  },
  {
   "cell_type": "code",
   "execution_count": 44,
   "id": "bce2312e-f83b-4c59-8d66-7d028f81203d",
   "metadata": {},
   "outputs": [
    {
     "data": {
      "text/plain": [
       "0.963084495488105"
      ]
     },
     "execution_count": 44,
     "metadata": {},
     "output_type": "execute_result"
    }
   ],
   "source": [
    "GBC.score(X_test,Y_test)"
   ]
  },
  {
   "cell_type": "code",
   "execution_count": 45,
   "id": "6cd3d8ff-27c1-4722-8a02-c3ccef6bb8cf",
   "metadata": {},
   "outputs": [
    {
     "name": "stdout",
     "output_type": "stream",
     "text": [
      "              precision    recall  f1-score   support\n",
      "\n",
      "           0       1.00      0.94      0.97      2072\n",
      "           1       0.92      1.00      0.96      1585\n",
      "\n",
      "    accuracy                           0.96      3657\n",
      "   macro avg       0.96      0.97      0.96      3657\n",
      "weighted avg       0.97      0.96      0.96      3657\n",
      "\n"
     ]
    }
   ],
   "source": [
    "pred_GBC = GBC.predict(X_test)\n",
    "print(classification_report(Y_test,pred_GBC))"
   ]
  },
  {
   "cell_type": "markdown",
   "id": "51e2d1e7-2cf8-4b62-8bc5-4120deb2606f",
   "metadata": {},
   "source": [
    "**Creating CONFUSION MATRIX**"
   ]
  },
  {
   "cell_type": "code",
   "execution_count": 46,
   "id": "80916d66-679c-4597-8dc7-c5c53591646c",
   "metadata": {},
   "outputs": [
    {
     "name": "stdout",
     "output_type": "stream",
     "text": [
      "[[1943  129]\n",
      " [   6 1579]]\n"
     ]
    },
    {
     "data": {
      "text/plain": [
       "<AxesSubplot:>"
      ]
     },
     "execution_count": 46,
     "metadata": {},
     "output_type": "execute_result"
    },
    {
     "data": {
      "image/png": "[encoded data removed]",
      "text/plain": [
       "<Figure size 432x288 with 2 Axes>"
      ]
     },
     "metadata": {
      "needs_background": "light"
     },
     "output_type": "display_data"
    }
   ],
   "source": [
    "cm= confusion_matrix(Y_test,pred_GBC)  \n",
    "print(cm)\n",
    "import seaborn as sns\n",
    "sns.heatmap(cm,cmap=\"Greens\",annot=True)"
   ]
  },
  {
   "cell_type": "markdown",
   "id": "15dceed2-36c3-42bb-bd5d-d90281ff0de1",
   "metadata": {},
   "source": [
    "**Training the Model: RANDOM FOREST CLASSIFIER**\n",
    "\n",
    "*Supervised Machine learning algorithm used for classification, regression, and other tasks using decision trees*"
   ]
  },
  {
   "cell_type": "code",
   "execution_count": 48,
   "id": "9685b704-4018-4346-af16-233415efac11",
   "metadata": {},
   "outputs": [],
   "source": [
    "from sklearn.ensemble import RandomForestClassifier"
   ]
  },
  {
   "cell_type": "code",
   "execution_count": 49,
   "id": "b23c78db-6e23-43ce-b34a-32810c0d464f",
   "metadata": {},
   "outputs": [
    {
     "data": {
      "text/plain": [
       "RandomForestClassifier(random_state=0)"
      ]
     },
     "execution_count": 49,
     "metadata": {},
     "output_type": "execute_result"
    }
   ],
   "source": [
    "RFC = RandomForestClassifier(random_state=0)\n",
    "RFC.fit(X_train,Y_train)"
   ]
  },
  {
   "cell_type": "code",
   "execution_count": 50,
   "id": "8ddf0ecb-0b37-4a41-9968-0cca609bd922",
   "metadata": {},
   "outputs": [
    {
     "data": {
      "text/plain": [
       "0.9928903472791906"
      ]
     },
     "execution_count": 50,
     "metadata": {},
     "output_type": "execute_result"
    }
   ],
   "source": [
    "RFC.score(X_test,Y_test)"
   ]
  },
  {
   "cell_type": "code",
   "execution_count": 51,
   "id": "82cf1ce8-133d-466c-bf55-c85b447d44d6",
   "metadata": {},
   "outputs": [],
   "source": [
    "pred_RFC = RFC.predict(X_test)"
   ]
  },
  {
   "cell_type": "code",
   "execution_count": 52,
   "id": "3372299e-404a-4f62-b79e-2f1c8bf0b2a4",
   "metadata": {},
   "outputs": [
    {
     "name": "stdout",
     "output_type": "stream",
     "text": [
      "              precision    recall  f1-score   support\n",
      "\n",
      "           0       1.00      0.99      0.99      2072\n",
      "           1       0.99      0.99      0.99      1585\n",
      "\n",
      "    accuracy                           0.99      3657\n",
      "   macro avg       0.99      0.99      0.99      3657\n",
      "weighted avg       0.99      0.99      0.99      3657\n",
      "\n"
     ]
    }
   ],
   "source": [
    "print(classification_report(Y_test,pred_RFC))"
   ]
  },
  {
   "cell_type": "markdown",
   "id": "65ae6caa-a30f-46dc-b907-9ab22c242842",
   "metadata": {},
   "source": [
    "**Creating CONFUSION MATRIX**"
   ]
  },
  {
   "cell_type": "code",
   "execution_count": 53,
   "id": "287f1c48-f144-45f2-a2bb-2327ef035b43",
   "metadata": {},
   "outputs": [
    {
     "name": "stdout",
     "output_type": "stream",
     "text": [
      "[[2056   16]\n",
      " [  10 1575]]\n"
     ]
    },
    {
     "data": {
      "text/plain": [
       "<AxesSubplot:>"
      ]
     },
     "execution_count": 53,
     "metadata": {},
     "output_type": "execute_result"
    },
    {
     "data": {
      "image/png": "[encoded data removed]",
      "text/plain": [
       "<Figure size 432x288 with 2 Axes>"
      ]
     },
     "metadata": {
      "needs_background": "light"
     },
     "output_type": "display_data"
    }
   ],
   "source": [
    "cm= confusion_matrix(Y_test,pred_RFC)  \n",
    "print(cm)\n",
    "import seaborn as sns\n",
    "sns.heatmap(cm,cmap=\"Blues\",annot=True)"
   ]
  },
  {
   "cell_type": "markdown",
   "id": "47475b14-9bcf-4b8c-9cfa-af9e2ab57fb7",
   "metadata": {},
   "source": [
    "***Here we can see that the decision tree algorithm and random forest algorithm has the best accuracy and they wil provide the best for the model.***"
   ]
  },
  {
   "cell_type": "markdown",
   "id": "08f60143-8ef5-4cca-b046-5334812275f7",
   "metadata": {},
   "source": [
    "**MODEL PREDICTION**"
   ]
  },
  {
   "cell_type": "code",
   "execution_count": 57,
   "id": "aa9ab2fa-c184-46fd-8cfa-3da26e4a5f6a",
   "metadata": {},
   "outputs": [
    {
     "name": "stdout",
     "output_type": "stream",
     "text": [
      "\n",
      "\n",
      "LR Prediction: TRUE News \n",
      "DT Prediction: TRUE News \n",
      "GBC Prediction: TRUE News \n",
      "RFC Prediction: TRUE News\n"
     ]
    }
   ],
   "source": [
    "def output_lable(n):\n",
    "    if n == 0:\n",
    "        return \"FAKE News\"\n",
    "    elif n == 1:\n",
    "        return \"TRUE News\"\n",
    "X_new = X_test[3]\n",
    "\n",
    "prediction1 = model_LR.predict(X_new)\n",
    "prediction2 = DT.predict(X_new)\n",
    "prediction3 = GBC.predict(X_new)\n",
    "prediction4 = RFC.predict(X_new)\n",
    "print(\"\\n\\nLR Prediction: {} \\nDT Prediction: {} \\nGBC Prediction: {} \\nRFC Prediction: {}\".format(output_lable(prediction1[0]),\n",
    "                                                                                                  output_lable(prediction2[0]), \n",
    "                                                                                                  output_lable(prediction3[0]), \n",
    "                                                                                                 output_lable(prediction4[0])))"
   ]
  },
  {
   "cell_type": "code",
   "execution_count": 60,
   "id": "5fb4e752-7854-4623-8321-11830499dc24",
   "metadata": {},
   "outputs": [
    {
     "name": "stdout",
     "output_type": "stream",
     "text": [
      "1\n"
     ]
    }
   ],
   "source": [
    "print(Y_test[3])"
   ]
  },
  {
   "cell_type": "markdown",
   "id": "503541af-b15f-46a4-b9e4-7aa41fd5abce",
   "metadata": {},
   "source": [
    "***Hence we can conclude that our model is predicted correctly which is here 1 i.e, TRUE News and in the original level of the Y_test we found that the value is also 1, that means the PREDICTION IS CORRECT.***"
   ]
  },
  {
   "cell_type": "code",
   "execution_count": null,
   "id": "33f1a1ae-6d2b-469d-8ddf-f4dd41dd6453",
   "metadata": {},
   "outputs": [],
   "source": []
  }
 ],
 "metadata": {
  "kernelspec": {
   "display_name": "Python 3 (ipykernel)",
   "language": "python",
   "name": "python3"
  },
  "language_info": {
   "codemirror_mode": {
    "name": "ipython",
    "version": 3
   },
   "file_extension": ".py",
   "mimetype": "text/x-python",
   "name": "python",
   "nbconvert_exporter": "python",
   "pygments_lexer": "ipython3",
   "version": "3.9.7"
  }
 },
 "nbformat": 4,
 "nbformat_minor": 5
}
